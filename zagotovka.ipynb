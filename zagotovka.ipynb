{
 "cells": [
  {
   "cell_type": "markdown",
   "metadata": {},
   "source": [
    "# Функции типа sqrt, cos, sin, log, взятие модуля это sqrt, cos, sin, log, fabs\n",
    "P.S. Попробовал объединить все более менее полезное в одном месте. Где чего можно, написано большими жирными буквами, не запутаетесь."
   ]
  },
  {
   "cell_type": "code",
   "execution_count": 4,
   "metadata": {
    "collapsed": true
   },
   "outputs": [],
   "source": [
    "import numpy as np\n",
    "import numpy.linalg as lin\n",
    "import matplotlib.pyplot as plt\n",
    "import math\n",
    "from math import sqrt, sin, cos, log, fabs  as sqrt, sin, cos, log, fabs\n",
    "%matplotlib inline"
   ]
  },
  {
   "cell_type": "markdown",
   "metadata": {},
   "source": [
    "# Если надо строить график\n"
   ]
  },
  {
   "cell_type": "code",
   "execution_count": 35,
   "metadata": {
    "collapsed": false
   },
   "outputs": [],
   "source": [
    "def graph(x, y, x1, y1):\n",
    "    #p = polyval(x, y, n)\n",
    "    #yp = polyfit(p, x)\n",
    "    #mass = range(-20, 20, 1)\n",
    "    plt.plot(x,y,'b-', x1, y1, 'r-')\n",
    "    plt.axhline(y = 0, xmin = 0, xmax = 1, color = 'black')\n",
    "    plt.axis([min(x)-1, max(x)+1, min(y)-1, max(y)+1])\n",
    "    plt.grid()\n",
    "    plt.show()"
   ]
  },
  {
   "cell_type": "code",
   "execution_count": 36,
   "metadata": {
    "collapsed": false
   },
   "outputs": [
    {
     "data": {
      "image/png": "[encoded data removed]",
      "text/plain": [
       "<matplotlib.figure.Figure at 0x4fde2d0>"
      ]
     },
     "metadata": {},
     "output_type": "display_data"
    }
   ],
   "source": [
    "#введите данные в скобки через запятую\n",
    "# число n определяет полиномом какой степени вы хотите прблизить\n",
    "x = [-1+i*0.25 for i in range(10)]\n",
    "y1 = []\n",
    "y=[]\n",
    "for i in x:\n",
    "    if i<0:\n",
    "        y1.append(log(-i))\n",
    "x1 = [i for i in x if i<0]\n",
    "for i in x:\n",
    "    y.append((sin(i+math.pi/2))**(1/3)-2)\n",
    "len(x1)    \n",
    "graph(x, y, x1, y1)"
   ]
  },
  {
   "cell_type": "markdown",
   "metadata": {},
   "source": [
    "# Перемножение матриц"
   ]
  },
  {
   "cell_type": "code",
   "execution_count": 4,
   "metadata": {
    "collapsed": true
   },
   "outputs": [],
   "source": [
    "def matumn(a,b):\n",
    "    import numpy as np\n",
    "    umn = []\n",
    "    for i in range(len(a[0])):\n",
    "        stroka = []\n",
    "        for k in range(len(b[0])):\n",
    "            el = 0\n",
    "            for j in range(len(b)):\n",
    "                el += a[i][j]*b[j][k]\n",
    "            stroka.append(el)\n",
    "        umn.append(stroka)\n",
    "    return np.array(umn)"
   ]
  },
  {
   "cell_type": "code",
   "execution_count": null,
   "metadata": {
    "collapsed": true
   },
   "outputs": [],
   "source": [
    "matumn()"
   ]
  },
  {
   "cell_type": "markdown",
   "metadata": {},
   "source": [
    "# ПМИ уравнения(спасибо денчик)"
   ]
  },
  {
   "cell_type": "code",
   "execution_count": 5,
   "metadata": {
    "collapsed": true
   },
   "outputs": [],
   "source": [
    "def fun(x):\n",
    "    return -0.5*sin(x)-3.0\n",
    "def MPI_resh(x0, n, f):\n",
    "    x = x0\n",
    "    for i in range(n):\n",
    "        x = f(x0)\n",
    "    return x "
   ]
  },
  {
   "cell_type": "code",
   "execution_count": null,
   "metadata": {
    "collapsed": false
   },
   "outputs": [],
   "source": [
    "MPI_resh()"
   ]
  },
  {
   "cell_type": "code",
   "execution_count": 6,
   "metadata": {
    "collapsed": true
   },
   "outputs": [],
   "source": [
    "def MPI_oshibka(abs_proizvodnoy, x0, eps, f):\n",
    "    n = 2+int((log((1.0-abs_proizvodnoy)*eps/fabs(x1-x0)))/log(abs_proizvodnoy))\n",
    "    x = f(x0)\n",
    "    for i in range(n):\n",
    "        x = f(x)\n",
    "    return x"
   ]
  },
  {
   "cell_type": "code",
   "execution_count": null,
   "metadata": {
    "collapsed": true
   },
   "outputs": [],
   "source": [
    "MPI_oshibka()"
   ]
  },
  {
   "cell_type": "markdown",
   "metadata": {},
   "source": [
    "# вычислятор весовых коэффициентов для квадратур Гаусса-Кристофеля"
   ]
  },
  {
   "cell_type": "code",
   "execution_count": 7,
   "metadata": {
    "collapsed": false
   },
   "outputs": [
    {
     "name": "stdout",
     "output_type": "stream",
     "text": [
      "-0.7473490763560131 0.7462501380226892\n"
     ]
    }
   ],
   "source": [
    "import numpy as np\n",
    "from math import sqrt, exp as sqrt, exp\n",
    "j=100 \n",
    "dx=2/j\n",
    "с=[]\n",
    "s=0\n",
    "s1=0\n",
    "\n",
    "#работает для двух узлов\n",
    "#ОБЯЗАТЕЛЬНО приведение отрезка интегрирования к виду [-1;1]\n",
    "#делается это с помощью линейной замены переменных\n",
    "\n",
    "def p(x):\n",
    "    res=exp(-x**2)\n",
    "    return res\n",
    "#в качестве нулей взяты нули полинома Лежандра для n=2 на отрезке [-1;1]\n",
    "def h1(x):\n",
    "    res=(x-sqrt(3)/3)/(2*sqrt(3)/3)\n",
    "    return res\n",
    "\n",
    "def h2(x):\n",
    "    res=-(x-sqrt(3)/3)/(2*sqrt(3)/3)\n",
    "    return res\n",
    "\n",
    "for i in range(j):\n",
    "    s=s+h1(-1+i*dx)*p(-1+i*dx)*dx\n",
    "    s1=s1+h2(1-i*dx)*p(1-i*dx)*dx\n",
    "\n",
    "print(s,s1)    "
   ]
  },
  {
   "cell_type": "markdown",
   "metadata": {},
   "source": [
    "# М. Симпсона и М. Трапеций с ошибками по Рунге и э.%20Ричардсона\n"
   ]
  },
  {
   "cell_type": "code",
   "execution_count": 20,
   "metadata": {
    "collapsed": false
   },
   "outputs": [
    {
     "name": "stdout",
     "output_type": "stream",
     "text": [
      "Метод трапеций, I= 0.501019170867348\n",
      "Уточнение экстраполяцией Ричардсона I*= 0.5393053738424446\n",
      "Ошибка по правилу Рунге 0.038286202975096516\n",
      "Метод Симсона, I= 0.546184397183541\n",
      "I(2h)= 0.5393053738424443\n",
      "Уточнение экстраполяцией Ричардсона I*= 0.5014777724234212\n",
      "Ошибка по правилу Рунге 0.0004586015560731127\n"
     ]
    }
   ],
   "source": [
    "j=8\n",
    "a=0\n",
    "b=2\n",
    "h=(b-a)/j\n",
    "#функцию вбивать руками здесь, дописывать перед функцией\n",
    "def f(x):\n",
    "    if x==0:\n",
    "        res = 0\n",
    "    else:\n",
    "        res = x**(3/2)*cos(x)/sin(x)\n",
    "    return res\n",
    "\n",
    "\n",
    "#Метод трапеций\n",
    "s=0\n",
    "for i in range(j):\n",
    "    \n",
    "    s=s+(f(a+i*h)+f(a+(i+1)*h))*0.5*h\n",
    "\n",
    "print('Метод трапеций, I=',s)\n",
    "s_e=0\n",
    "for i in range(math.ceil(j/2)):\n",
    "    s_e=s_e+(f(a+i*2*h)+f(a+(i+1)*2*h))*0.5*2*h\n",
    "#экстраполяция Ричардсона\n",
    "s_extr=s+(s_e-s)/(1-2**2)\n",
    "print('Уточнение экстраполяцией Ричардсона I*=',s_extr)\n",
    "#Ошибка по правилу Рунге\n",
    "err=abs((s_e-s)/(1-2**2))\n",
    "\n",
    "print('Ошибка по правилу Рунге', err)\n",
    "#Метод Симпсона\n",
    "s1=0\n",
    "for i in range(j):\n",
    "    s1=s1+h*(f(a+i*h)+4*f(a+h*(i+0.5))+f(a+(i+1)*h))/6\n",
    "\n",
    "print('Метод Симсона, I=', s1)\n",
    "\n",
    "s1_e=0\n",
    "for i in range(math.ceil(j/2)):\n",
    "    s1_e=s1_e+2*h*(f(a+i*2*h)+4*f(a+2*h*(i+0.5))+f(a+(i+1)*2*h))/6\n",
    "print('I(2h)=',s1_e)\n",
    "#экстраполяция Ричардсона\n",
    "s1_extr=s+(s1_e-s1)/(1-2**4)\n",
    "print('Уточнение экстраполяцией Ричардсона I*=',s1_extr)\n",
    "#Ошибка по правилу Рунге\n",
    "err1=abs((s1_e-s1)/(1-2**4))\n",
    "\n",
    "print('Ошибка по правилу Рунге',err1)"
   ]
  },
  {
   "cell_type": "code",
   "execution_count": 13,
   "metadata": {
    "collapsed": false
   },
   "outputs": [
    {
     "data": {
      "text/plain": [
       "0.25"
      ]
     },
     "execution_count": 13,
     "metadata": {},
     "output_type": "execute_result"
    }
   ],
   "source": [
    "h"
   ]
  },
  {
   "cell_type": "code",
   "execution_count": 6,
   "metadata": {
    "collapsed": false
   },
   "outputs": [
    {
     "data": {
      "text/plain": [
       "0.3861605619420585"
      ]
     },
     "execution_count": 6,
     "metadata": {},
     "output_type": "execute_result"
    }
   ],
   "source": [
    "h=0.25\n",
    "h*(2*sum([(x*2*h)**(3/2)*cos(x*2*h)/sin(x*2*h) for x in range(1,4,1)])+2**(3/2)*cos(2)/sin(2))"
   ]
  },
  {
   "cell_type": "code",
   "execution_count": null,
   "metadata": {
    "collapsed": true
   },
   "outputs": [],
   "source": []
  }
 ],
 "metadata": {
  "kernelspec": {
   "display_name": "Python 3",
   "language": "python",
   "name": "python3"
  },
  "language_info": {
   "codemirror_mode": {
    "name": "ipython",
    "version": 3
   },
   "file_extension": ".py",
   "mimetype": "text/x-python",
   "name": "python",
   "nbconvert_exporter": "python",
   "pygments_lexer": "ipython3",
   "version": "3.5.1"
  }
 },
 "nbformat": 4,
 "nbformat_minor": 0
}
