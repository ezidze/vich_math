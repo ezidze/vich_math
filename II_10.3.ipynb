{
 "cells": [
  {
   "cell_type": "code",
   "execution_count": 1,
   "metadata": {
    "collapsed": false
   },
   "outputs": [],
   "source": [
    "def matumn(a,b):\n",
    "    import numpy as np\n",
    "    umn = []\n",
    "    for i in range(len(a[0])):\n",
    "        stroka = []\n",
    "        for k in range(len(b[0])):\n",
    "            el = 0\n",
    "            for j in range(len(b)):\n",
    "                el += a[i][j]*b[j][k]\n",
    "            stroka.append(el)\n",
    "        umn.append(stroka)\n",
    "    return np.array(umn)    "
   ]
  },
  {
   "cell_type": "code",
   "execution_count": 2,
   "metadata": {
    "collapsed": false
   },
   "outputs": [],
   "source": [
    "import numpy as np\n",
    "np.set_printoptions(precision = 3, suppress = True)\n",
    "A = np.array( [[5,-1,2],\n",
    "               [1,4,-1],\n",
    "               [1,1,1]] )\n",
    "b = np.array( [8, -4, 4] ).reshape((3,1))\n",
    "x0 = np.array(  [0,0,0] ).reshape((3,1))"
   ]
  },
  {
   "cell_type": "code",
   "execution_count": 3,
   "metadata": {
    "collapsed": false
   },
   "outputs": [],
   "source": [
    "lamda_max = max(np.linalg.eig(A)[0])\n",
    "lamda_min = min(np.linalg.eig(A)[0])\n",
    "q = (lamda_max-lamda_min)/(lamda_max+lamda_min)"
   ]
  },
  {
   "cell_type": "code",
   "execution_count": 4,
   "metadata": {
    "collapsed": false
   },
   "outputs": [
    {
     "name": "stdout",
     "output_type": "stream",
     "text": [
      "СКОРОСТЬ СХОЖДЕНИЯ = 0.654\n"
     ]
    }
   ],
   "source": [
    "print('СКОРОСТЬ СХОЖДЕНИЯ =', '%1.3f' % q)"
   ]
  },
  {
   "cell_type": "code",
   "execution_count": 5,
   "metadata": {
    "collapsed": true
   },
   "outputs": [],
   "source": [
    "U = np.zeros((3,3))\n",
    "L = np.zeros((3,3))\n",
    "D = np.zeros((3,3))\n",
    "mass = range(3)"
   ]
  },
  {
   "cell_type": "code",
   "execution_count": 6,
   "metadata": {
    "collapsed": false
   },
   "outputs": [
    {
     "name": "stdout",
     "output_type": "stream",
     "text": [
      "[[ 5.  0.  0.]\n",
      " [ 0.  4.  0.]\n",
      " [ 0.  0.  1.]]\n"
     ]
    }
   ],
   "source": [
    "for i in mass:\n",
    "    D[i][i] = A[i][i]\n",
    "print(D)    "
   ]
  },
  {
   "cell_type": "code",
   "execution_count": 7,
   "metadata": {
    "collapsed": false
   },
   "outputs": [
    {
     "name": "stdout",
     "output_type": "stream",
     "text": [
      "[[ 0. -1.  2.]\n",
      " [ 0.  0. -1.]\n",
      " [ 0.  0.  0.]]\n"
     ]
    }
   ],
   "source": [
    "for i in mass:\n",
    "    for j in range(i,3):\n",
    "        U[i][j] = A[i][j]\n",
    "U -= D\n",
    "print(U)"
   ]
  },
  {
   "cell_type": "code",
   "execution_count": 8,
   "metadata": {
    "collapsed": false
   },
   "outputs": [
    {
     "name": "stdout",
     "output_type": "stream",
     "text": [
      "[[ 0.  0.  0.]\n",
      " [ 1.  0.  0.]\n",
      " [ 1.  1.  0.]]\n"
     ]
    }
   ],
   "source": [
    "for i in mass:\n",
    "    for j in range(i):\n",
    "        L[i][j] = A[i][j]\n",
    "print(L)\n",
    "i = j = None"
   ]
  },
  {
   "cell_type": "code",
   "execution_count": 9,
   "metadata": {
    "collapsed": false
   },
   "outputs": [
    {
     "name": "stdout",
     "output_type": "stream",
     "text": [
      "[[ 1.6]\n",
      " [-1.4]\n",
      " [ 3.8]]\n",
      "[[-0.    0.2  -0.4 ]\n",
      " [-0.   -0.05  0.35]\n",
      " [-0.   -0.15  0.05]]\n"
     ]
    }
   ],
   "source": [
    "R = (-1)*np.array(matumn(np.linalg.inv(L + D), U)).reshape((3,3))\n",
    "F = np.array(matumn(np.linalg.inv(L + D), b)).reshape((3,1))\n",
    "print(F)\n",
    "print(R)"
   ]
  },
  {
   "cell_type": "code",
   "execution_count": 10,
   "metadata": {
    "collapsed": false
   },
   "outputs": [
    {
     "name": "stdout",
     "output_type": "stream",
     "text": [
      "ШАГ №1\n",
      "\n",
      " [[ 1.6]\n",
      " [-1.4]\n",
      " [ 3.8]] \n",
      "\n",
      "ШАГ №2\n",
      "\n",
      " [[-0.2]\n",
      " [ 0. ]\n",
      " [ 4.2]] \n",
      "\n",
      "ШАГ №3\n",
      "\n",
      " [[-0.08]\n",
      " [ 0.07]\n",
      " [ 4.01]] \n",
      "\n",
      "ШАГ №4\n",
      "\n",
      " [[ 0.01]\n",
      " [-0.  ]\n",
      " [ 3.99]] \n",
      "\n",
      "ШАГ №5\n",
      "\n",
      " [[ 0.004]\n",
      " [-0.003]\n",
      " [ 3.999]] \n",
      "\n",
      "ШАГ №6\n",
      "\n",
      " [[-0.]\n",
      " [ 0.]\n",
      " [ 4.]] \n",
      "\n"
     ]
    }
   ],
   "source": [
    "x = F\n",
    "print('ШАГ №'+str(1)+'\\n\\n', x,'\\n')\n",
    "for i in range(5):\n",
    "    x = matumn(R,x) + F\n",
    "    x = x.reshape((3,1))\n",
    "    print('ШАГ №'+str(i+2)+'\\n\\n', x,'\\n')"
   ]
  },
  {
   "cell_type": "code",
   "execution_count": 11,
   "metadata": {
    "collapsed": false
   },
   "outputs": [
    {
     "name": "stdout",
     "output_type": "stream",
     "text": [
      "ИСТИННОЕ РЕШЕНИЕ\n",
      "\n",
      "\n",
      "[[ 0.]\n",
      " [ 0.]\n",
      " [ 4.]]\n"
     ]
    }
   ],
   "source": [
    "print('ИСТИННОЕ РЕШЕНИЕ\\n\\n')\n",
    "print(np.linalg.solve(A,b))"
   ]
  },
  {
   "cell_type": "code",
   "execution_count": 12,
   "metadata": {
    "collapsed": false
   },
   "outputs": [
    {
     "name": "stdout",
     "output_type": "stream",
     "text": [
      "СХОДИТСЯ\n"
     ]
    }
   ],
   "source": [
    "G = matumn(A.transpose(),A)\n",
    "for i in np.linalg.eig(A)[0]:\n",
    "    if i < 0:\n",
    "        pol_op = False\n",
    "    else:\n",
    "        pol_op = True\n",
    "if pol_op:\n",
    "    print('СХОДИТСЯ')\n",
    "else:\n",
    "    print('НЕ СХОДИТСЯ')"
   ]
  }
 ],
 "metadata": {
  "kernelspec": {
   "display_name": "Python 3",
   "language": "python",
   "name": "python3"
  },
  "language_info": {
   "codemirror_mode": {
    "name": "ipython",
    "version": 3
   },
   "file_extension": ".py",
   "mimetype": "text/x-python",
   "name": "python",
   "nbconvert_exporter": "python",
   "pygments_lexer": "ipython3",
   "version": "3.5.1"
  }
 },
 "nbformat": 4,
 "nbformat_minor": 0
}
