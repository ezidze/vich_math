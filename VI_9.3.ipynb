{
 "cells": [
  {
   "cell_type": "code",
   "execution_count": 1,
   "metadata": {
    "collapsed": true
   },
   "outputs": [],
   "source": [
    "import math\n",
    "import numpy as np"
   ]
  },
  {
   "cell_type": "markdown",
   "metadata": {},
   "source": [
    "# Посчитаем с помощью библиотеки"
   ]
  },
  {
   "cell_type": "code",
   "execution_count": 4,
   "metadata": {
    "collapsed": true
   },
   "outputs": [],
   "source": [
    "x = [0, 1,2, 3,4,5]\n",
    "y = [1,0,0,1,1,0]\n",
    "#shag = 0.00001\n",
    "#mass = range(1000000)"
   ]
  },
  {
   "cell_type": "code",
   "execution_count": 4,
   "metadata": {
    "collapsed": false
   },
   "outputs": [],
   "source": [
    "p2 = np.polyfit(x, y, 4)\n",
    "yp = 0"
   ]
  },
  {
   "cell_type": "code",
   "execution_count": 22,
   "metadata": {
    "collapsed": false
   },
   "outputs": [
    {
     "name": "stdout",
     "output_type": "stream",
     "text": [
      "-0.4244299999999992\n",
      "0.999997293775\n"
     ]
    }
   ],
   "source": [
    "\n",
    "for i in mass:\n",
    "    arg = -5 + shag*i\n",
    "    yp = np.polyval(p2, arg)\n",
    "    if math.fabs(yp-1)<shag:\n",
    "        break\n",
    "print(arg)\n",
    "print(yp)"
   ]
  },
  {
   "cell_type": "code",
   "execution_count": 23,
   "metadata": {
    "collapsed": false
   },
   "outputs": [
    {
     "name": "stdout",
     "output_type": "stream",
     "text": [
      "В итоге, x= -0.4244299999999992\n"
     ]
    }
   ],
   "source": [
    "print(\"В итоге, x=\", arg)"
   ]
  },
  {
   "cell_type": "markdown",
   "metadata": {},
   "source": [
    "# Нахождение коэффициентов честно\n",
    "## Через интерпаляционный многочлен Лагранжа  "
   ]
  },
  {
   "cell_type": "code",
   "execution_count": 2,
   "metadata": {
    "collapsed": false
   },
   "outputs": [],
   "source": [
    "def Lagrang(arg, k):\n",
    "    global x\n",
    "    chislitel = 1\n",
    "    znamenatel = 1\n",
    "    for i in x:\n",
    "        if i != x[k]:\n",
    "            chislitel *= (arg-i)\n",
    "            znamenatel *= (x[k]-i)        \n",
    "    return chislitel/znamenatel\n",
    "        "
   ]
  },
  {
   "cell_type": "code",
   "execution_count": 25,
   "metadata": {
    "collapsed": false
   },
   "outputs": [
    {
     "name": "stdout",
     "output_type": "stream",
     "text": [
      "-0.4244299999999992\n",
      "0.9999972937750026\n"
     ]
    }
   ],
   "source": [
    "for i in mass:\n",
    "    arg = -5 + shag*i\n",
    "    polinom = y[0]*Lagrang(arg,0)+y[1]*Lagrang(arg,1)+y[2]*Lagrang(arg,2)+y[3]*Lagrang(arg,3)\n",
    "    if math.fabs(polinom-1) < shag:\n",
    "        break\n",
    "print(arg)\n",
    "print(polinom)"
   ]
  },
  {
   "cell_type": "code",
   "execution_count": 26,
   "metadata": {
    "collapsed": false
   },
   "outputs": [
    {
     "name": "stdout",
     "output_type": "stream",
     "text": [
      "В итоге, честным методом через полином Лагранжа получаем х= -0.4244299999999992\n"
     ]
    }
   ],
   "source": [
    "print(\"В итоге, честным методом через полином Лагранжа получаем х=\", arg)"
   ]
  },
  {
   "cell_type": "code",
   "execution_count": 8,
   "metadata": {
    "collapsed": false
   },
   "outputs": [],
   "source": [
    "%matplotlib inline\n",
    "import matplotlib.pyplot as plt"
   ]
  },
  {
   "cell_type": "code",
   "execution_count": 28,
   "metadata": {
    "collapsed": true
   },
   "outputs": [],
   "source": [
    "for i in mass:\n",
    "    arg = 6+ i*shag\n",
    "    polinom = y[0]*Lagrang(arg,0)+y[1]*Lagrang(arg,1)+y[2]*Lagrang(arg,2)+y[3]*Lagrang(arg,3)\n",
    "    if math.fabs(polinom-1)<shag:\n",
    "        break\n",
    "    "
   ]
  },
  {
   "cell_type": "code",
   "execution_count": 9,
   "metadata": {
    "collapsed": false
   },
   "outputs": [
    {
     "data": {
      "image/png": "[encoded data removed]",
      "text/plain": [
       "<matplotlib.figure.Figure at 0x89038d0>"
      ]
     },
     "metadata": {},
     "output_type": "display_data"
    }
   ],
   "source": [
    "x2 = range(-5, 20, 1)\n",
    "yp = np.polyval(p2, x2)\n",
    "plt.plot(x2, yp, 'r-')\n",
    "plt.axis([-6, 20, -20, 20])\n",
    "plt.axhline(y = 0, xmin=0, xmax = 1, color = 'black')\n",
    "plt.grid()"
   ]
  },
  {
   "cell_type": "code",
   "execution_count": 10,
   "metadata": {
    "collapsed": false
   },
   "outputs": [
    {
     "ename": "NameError",
     "evalue": "name 'arg' is not defined",
     "output_type": "error",
     "traceback": [
      "\u001b[1;31m---------------------------------------------------------------------------\u001b[0m",
      "\u001b[1;31mNameError\u001b[0m                                 Traceback (most recent call last)",
      "\u001b[1;32m<ipython-input-10-ddad91f35fa6>\u001b[0m in \u001b[0;36m<module>\u001b[1;34m()\u001b[0m\n\u001b[1;32m----> 1\u001b[1;33m \u001b[0mprint\u001b[0m\u001b[1;33m(\u001b[0m\u001b[1;34m'второй корень равен='\u001b[0m\u001b[1;33m,\u001b[0m \u001b[0marg\u001b[0m\u001b[1;33m)\u001b[0m\u001b[1;33m\u001b[0m\u001b[0m\n\u001b[0m",
      "\u001b[1;31mNameError\u001b[0m: name 'arg' is not defined"
     ]
    }
   ],
   "source": [
    "print('второй корень равен=', arg)"
   ]
  },
  {
   "cell_type": "code",
   "execution_count": 5,
   "metadata": {
    "collapsed": false
   },
   "outputs": [],
   "source": [
    "arg = 4.5\n",
    "polinom = y[0]*Lagrang(arg,0)+y[1]*Lagrang(arg,1)+y[2]*Lagrang(arg,2)+y[3]*Lagrang(arg,3)+y[4]*Lagrang(arg,4)+y[5]*Lagrang(arg,5)"
   ]
  },
  {
   "cell_type": "code",
   "execution_count": 6,
   "metadata": {
    "collapsed": false
   },
   "outputs": [
    {
     "data": {
      "text/plain": [
       "0.4375"
      ]
     },
     "execution_count": 6,
     "metadata": {},
     "output_type": "execute_result"
    }
   ],
   "source": [
    "polinom\n"
   ]
  },
  {
   "cell_type": "code",
   "execution_count": 16,
   "metadata": {
    "collapsed": false
   },
   "outputs": [
    {
     "name": "stdout",
     "output_type": "stream",
     "text": [
      "-0.02734375\n",
      "0.0\n",
      "0.0\n",
      "-0.2734375\n",
      "0.08203125\n",
      "-0.0\n"
     ]
    }
   ],
   "source": [
    "for i in x:\n",
    "    print(y[i]*Lagrang(arg,i))"
   ]
  },
  {
   "cell_type": "code",
   "execution_count": null,
   "metadata": {
    "collapsed": true
   },
   "outputs": [],
   "source": []
  }
 ],
 "metadata": {
  "kernelspec": {
   "display_name": "Python 3",
   "language": "python",
   "name": "python3"
  },
  "language_info": {
   "codemirror_mode": {
    "name": "ipython",
    "version": 3
   },
   "file_extension": ".py",
   "mimetype": "text/x-python",
   "name": "python",
   "nbconvert_exporter": "python",
   "pygments_lexer": "ipython3",
   "version": "3.5.1"
  }
 },
 "nbformat": 4,
 "nbformat_minor": 0
}
