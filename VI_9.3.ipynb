{
 "cells": [
  {
   "cell_type": "code",
   "execution_count": 84,
   "metadata": {
    "collapsed": true
   },
   "outputs": [],
   "source": [
    "import math\n",
    "import numpy as np"
   ]
  },
  {
   "cell_type": "markdown",
   "metadata": {},
   "source": [
    "# Посчитаем с помощью библиотеки"
   ]
  },
  {
   "cell_type": "code",
   "execution_count": 85,
   "metadata": {
    "collapsed": true
   },
   "outputs": [],
   "source": [
    "x = [-3, 0, 1, 5]\n",
    "y = [-7, 2, 4, 7]\n",
    "shag = 0.00001\n",
    "mass = range(1000000)"
   ]
  },
  {
   "cell_type": "code",
   "execution_count": 86,
   "metadata": {
    "collapsed": false
   },
   "outputs": [],
   "source": [
    "p2 = np.polyfit(x, y, 3)\n",
    "yp = 0"
   ]
  },
  {
   "cell_type": "code",
   "execution_count": 87,
   "metadata": {
    "collapsed": false
   },
   "outputs": [
    {
     "name": "stdout",
     "output_type": "stream",
     "text": [
      "-0.4244299999999992\n",
      "0.999997293775\n"
     ]
    }
   ],
   "source": [
    "for i in mass:\n",
    "    arg = -5 + shag*i\n",
    "    yp = np.polyval(p2, arg)\n",
    "    if math.fabs(yp-1)<shag:\n",
    "        break\n",
    "print(arg)\n",
    "print(yp)"
   ]
  },
  {
   "cell_type": "code",
   "execution_count": 88,
   "metadata": {
    "collapsed": false
   },
   "outputs": [
    {
     "name": "stdout",
     "output_type": "stream",
     "text": [
      "В итоге, x= -0.4244299999999992\n"
     ]
    }
   ],
   "source": [
    "print(\"В итоге, x=\", arg)"
   ]
  },
  {
   "cell_type": "markdown",
   "metadata": {},
   "source": [
    "# Нахождение коэффициентов честно\n",
    "## Через интерпаляционный многочлен Лагранжа  "
   ]
  },
  {
   "cell_type": "code",
   "execution_count": 89,
   "metadata": {
    "collapsed": false
   },
   "outputs": [],
   "source": [
    "def Lagrang(arg, k):\n",
    "    global x\n",
    "    chislitel = 1\n",
    "    znamenatel = 1\n",
    "    for i in x:\n",
    "        if i != x[k]:\n",
    "            chislitel *= (arg-i)\n",
    "            znamenatel *= (x[k]-i)\n",
    "    return chislitel/znamenatel\n",
    "        "
   ]
  },
  {
   "cell_type": "code",
   "execution_count": 90,
   "metadata": {
    "collapsed": false
   },
   "outputs": [
    {
     "name": "stdout",
     "output_type": "stream",
     "text": [
      "-0.4244299999999992\n",
      "0.9999972937750026\n"
     ]
    }
   ],
   "source": [
    "for i in mass:\n",
    "    arg = -5 + shag*i\n",
    "    polinom = y[0]*Lagrang(arg,0)+y[1]*Lagrang(arg,1)+y[2]*Lagrang(arg,2)+y[3]*Lagrang(arg,3)\n",
    "    if math.fabs(polinom-1) < shag:\n",
    "        break\n",
    "print(arg)\n",
    "print(polinom)"
   ]
  },
  {
   "cell_type": "code",
   "execution_count": 91,
   "metadata": {
    "collapsed": false
   },
   "outputs": [
    {
     "name": "stdout",
     "output_type": "stream",
     "text": [
      "В итоге, честным методом через полином Лагранжа получаем х= -0.4244299999999992\n"
     ]
    }
   ],
   "source": [
    "print(\"В итоге, честным методом через полином Лагранжа получаем х=\", arg)"
   ]
  },
  {
   "cell_type": "code",
   "execution_count": null,
   "metadata": {
    "collapsed": true
   },
   "outputs": [],
   "source": []
  }
 ],
 "metadata": {
  "kernelspec": {
   "display_name": "Python 3",
   "language": "python",
   "name": "python3"
  },
  "language_info": {
   "codemirror_mode": {
    "name": "ipython",
    "version": 3
   },
   "file_extension": ".py",
   "mimetype": "text/x-python",
   "name": "python",
   "nbconvert_exporter": "python",
   "pygments_lexer": "ipython3",
   "version": "3.5.1"
  }
 },
 "nbformat": 4,
 "nbformat_minor": 0
}
