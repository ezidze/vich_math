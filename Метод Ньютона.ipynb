{
 "cells": [
  {
   "cell_type": "code",
   "execution_count": 1,
   "metadata": {
    "collapsed": false
   },
   "outputs": [],
   "source": [
    "import numpy as np\n",
    "from numpy import exp, sin, cos, log as exp, sin, cos, log\n",
    "from numpy.linalg import inv as inv\n",
    "from numpy import dot as dot"
   ]
  },
  {
   "cell_type": "markdown",
   "metadata": {},
   "source": [
    "### Инструкция по использованию:\n",
    "В этой задаче будет нужно вбить функции, которые задают нашу нелинейную систему. \n",
    "\n",
    "Порядок действий:\n",
    "\n",
    "    1. Читаем комментарии к коду ниже.\n",
    "    2. Аккуратно считаем производные функций, задающих систему.\n",
    "    3. Забиваем функции и их производные в соответствующие им значения.\n",
    "    4. Проверяем, не обосрались ли мы с вычислениями.\n",
    "    5. Если все в порядке - запускаем прогу и следуем подсказкам.\n",
    "    6. ???\n",
    "    7. PROFIT!!! Вы восхитительны!"
   ]
  },
  {
   "cell_type": "code",
   "execution_count": 2,
   "metadata": {
    "collapsed": true
   },
   "outputs": [],
   "source": [
    "def matumn(a,b):\n",
    "    import numpy as np\n",
    "    umn = []\n",
    "    for i in range(len(a[0])):\n",
    "        stroka = []\n",
    "        for k in range(len(b[0])):\n",
    "            el = 0\n",
    "            for j in range(len(b)):\n",
    "                el += a[i][j]*b[j][k]\n",
    "            stroka.append(el)\n",
    "        umn.append(stroka)\n",
    "    return np.array(umn)"
   ]
  },
  {
   "cell_type": "code",
   "execution_count": 5,
   "metadata": {
    "collapsed": false
   },
   "outputs": [],
   "source": [
    "def Newton():\n",
    "    n = int(input('Number of steps: '))\n",
    "    x = float(input('Starting approximation x0: '))\n",
    "    y = float(input('Starting approximation y0: '))\n",
    "    x0 = np.array([x,y])\n",
    "    for i in range(n):\n",
    "        x = x0[0]\n",
    "        y = x0[1] \n",
    "# Вот здесь будем менять наши функции. Следим за тем, что\n",
    "# выражение должно быть вида F(x) = 0\n",
    "        f = 2.7**(y)+x # Первое уравнение в системе\n",
    "        g = (y+2)**3 + sin(x+3.14/2) # Второе уравнение в системе\n",
    "\n",
    "        fx = 1.0 # Производные функций f и g по x и y\n",
    "        fy = 2.7**(y)\n",
    "        gx = cos(x+3.14/2)\n",
    "        gy = 3*(y+2)**2\n",
    "\n",
    "        J = np.array([[fx, fy], [gx, gy]]) #Считаем матрицу Якоби\n",
    "        F = np.array([f, g]) # Матрица системы\n",
    "\n",
    "        x0 = x0 - dot(inv(J), F)\n",
    "    print ('x=', x0[0], 'y=', x0[1])"
   ]
  },
  {
   "cell_type": "code",
   "execution_count": 6,
   "metadata": {
    "collapsed": false
   },
   "outputs": [
    {
     "name": "stdout",
     "output_type": "stream",
     "text": [
      "Number of steps: 1\n",
      "Starting approximation x0: 0.24\n",
      "Starting approximation y0: -3.24\n",
      "x= -0.0475531072584 y= -3.05205182101\n"
     ]
    }
   ],
   "source": [
    "Newton()"
   ]
  },
  {
   "cell_type": "markdown",
   "metadata": {
    "collapsed": true
   },
   "source": []
  }
 ],
 "metadata": {
  "anaconda-cloud": {},
  "kernelspec": {
   "display_name": "Python 3",
   "language": "python",
   "name": "python3"
  },
  "language_info": {
   "codemirror_mode": {
    "name": "ipython",
    "version": 3
   },
   "file_extension": ".py",
   "mimetype": "text/x-python",
   "name": "python",
   "nbconvert_exporter": "python",
   "pygments_lexer": "ipython3",
   "version": "3.5.1"
  }
 },
 "nbformat": 4,
 "nbformat_minor": 1
}
